{
 "cells": [
  {
   "cell_type": "code",
   "execution_count": 3,
   "id": "149cce30-25d5-4782-87da-c309d58927a8",
   "metadata": {},
   "outputs": [
    {
     "name": "stdout",
     "output_type": "stream",
     "text": [
      "apple\n",
      "banana\n",
      "orange\n",
      "0\n",
      "1\n",
      "2\n",
      "3\n",
      "4\n"
     ]
    }
   ],
   "source": [
    "# Question 1 Explain with an example each when to use a for loop and a while loop.\n",
    "# answer  :::  For Loop ---  Used when you know in advance how many times you want to iterate through a block of code.\n",
    "\n",
    "fruits = [\"apple\", \"banana\", \"orange\"]\n",
    "for i in fruits:\n",
    "    print(i)\n",
    "\n",
    "#      While loop --- Used when you don't know the exact number of iterations beforehand, and the loop continues as long as\n",
    "#                     a certain condition is met.\n",
    "\n",
    "count = 0\n",
    "while count < 5:\n",
    "    print(count)\n",
    "    count = count + 1"
   ]
  },
  {
   "cell_type": "markdown",
   "id": "647caa99-a1c7-454e-a0ec-017f3c90d665",
   "metadata": {},
   "source": [
    "Question 2"
   ]
  },
  {
   "cell_type": "code",
   "execution_count": 14,
   "id": "f33f378f-5b99-4e5b-a1e5-8a35ad016297",
   "metadata": {},
   "outputs": [
    {
     "name": "stdout",
     "output_type": "stream",
     "text": [
      "Using for loop:\n",
      "Sum of first 10 natural numbers: 55\n",
      "Product of first 10 natural numbers: 3628800\n",
      "Using while loop:\n",
      "Sum of first 10 natural numbers: 0\n",
      "Product of first 10 natural numbers: 3628800\n"
     ]
    }
   ],
   "source": [
    "# for loop\n",
    "\n",
    "sum_for = 0\n",
    "for_product = 1\n",
    "\n",
    "for i in range(1, 11):\n",
    "    sum_for = sum_for + i\n",
    "    for_product = for_product * i\n",
    "\n",
    "print(\"Using for loop:\")\n",
    "print(f\"Sum of first 10 natural numbers: {sum_for}\")\n",
    "print(f\"Product of first 10 natural numbers: {for_product}\")\n",
    "\n",
    "\n",
    "#  ---------------------------------\n",
    "# using   while loop\n",
    "sum = 0\n",
    "product_while = 1\n",
    "i = 1\n",
    "\n",
    "while i <= 10:\n",
    "    sum = sum + i\n",
    "    product_while *= i\n",
    "    i = i + 1\n",
    "\n",
    "print(\"Using while loop:\")\n",
    "print(f\"Sum of first 10 natural numbers: {sum_while}\")\n",
    "print(f\"Product of first 10 natural numbers: {product_while}\")\n",
    "\n"
   ]
  },
  {
   "cell_type": "markdown",
   "id": "9209f635-af77-4ac5-98c6-bea58dee0f76",
   "metadata": {},
   "source": [
    "Question 3"
   ]
  },
  {
   "cell_type": "code",
   "execution_count": 18,
   "id": "22afc224-69f8-48be-8335-95b87ac964b0",
   "metadata": {},
   "outputs": [
    {
     "name": "stdin",
     "output_type": "stream",
     "text": [
      "Enter the units of electricity consumed:  310\n"
     ]
    },
    {
     "name": "stdout",
     "output_type": "stream",
     "text": [
      "Total electricity bill for 310 units is: Rs. 2250.0\n"
     ]
    }
   ],
   "source": [
    "units_consumed = int(input(\"Enter the units of electricity consumed: \"))\n",
    "bill = 0\n",
    "if units_consumed <= 100:\n",
    "    bill = units_consumed * 4.5\n",
    "elif units_consumed <= 200:\n",
    "    bill = (100 * 4.5) + (units_consumed - 100) * 6\n",
    "elif units_consumed <= 300:\n",
    "    bill = (100 * 4.5) + (100 * 6) + (units_consumed - 200) * 10\n",
    "else:\n",
    "    bill = (100 * 4.5) + (100 * 6) + (100 * 10) + (units_consumed - 300) * 20\n",
    "\n",
    "print(f\"Total electricity bill for {units_consumed} units is: Rs. {bill}\")\n"
   ]
  },
  {
   "cell_type": "markdown",
   "id": "e409749b-ac8e-4fc1-b0ea-690dad58afbf",
   "metadata": {},
   "source": [
    "Question 4"
   ]
  },
  {
   "cell_type": "code",
   "execution_count": 21,
   "id": "f1091b97-ed96-479a-a9b1-2fafb5f547d9",
   "metadata": {},
   "outputs": [
    {
     "name": "stdout",
     "output_type": "stream",
     "text": [
      "Numbers whose cubes are divisible by 4 or 5 (using for loop):\n",
      "[2, 4, 5, 6, 8, 10, 12, 14, 15, 16, 18, 20, 22, 24, 25, 26, 28, 30, 32, 34, 35, 36, 38, 40, 42, 44, 45, 46, 48, 50, 52, 54, 55, 56, 58, 60, 62, 64, 65, 66, 68, 70, 72, 74, 75, 76, 78, 80, 82, 84, 85, 86, 88, 90, 92, 94, 95, 96, 98, 100]\n",
      "Numbers whose cubes are divisible by 4 or 5 (using while loop):\n",
      "[2, 4, 5, 6, 8, 10, 12, 14, 15, 16, 18, 20, 22, 24, 25, 26, 28, 30, 32, 34, 35, 36, 38, 40, 42, 44, 45, 46, 48, 50, 52, 54, 55, 56, 58, 60, 62, 64, 65, 66, 68, 70, 72, 74, 75, 76, 78, 80, 82, 84, 85, 86, 88, 90, 92, 94, 95, 96, 98, 100]\n"
     ]
    }
   ],
   "source": [
    "# Using for loop\n",
    "divisible_cubes_for = []\n",
    "\n",
    "for number in range(1, 101):\n",
    "    cube = number ** 3\n",
    "    if cube % 4 == 0 or cube % 5 == 0:\n",
    "        divisible_cubes_for.append(number)\n",
    "\n",
    "print(\"Numbers whose cubes are divisible by 4 or 5 (using for loop):\")\n",
    "print(divisible_cubes_for)\n",
    "\n",
    "\n",
    "# Using while loop\n",
    "divisible_cubes_while = []\n",
    "number = 1\n",
    "\n",
    "while number <= 100:\n",
    "    cube = number ** 3\n",
    "    if cube % 4 == 0 or cube % 5 == 0:\n",
    "        divisible_cubes_while.append(number)\n",
    "    number = number + 1\n",
    "\n",
    "print(\"Numbers whose cubes are divisible by 4 or 5 (using while loop):\")\n",
    "print(divisible_cubes_while)\n"
   ]
  },
  {
   "cell_type": "markdown",
   "id": "722d102f-03c5-48bc-8c7c-18396cab6553",
   "metadata": {},
   "source": [
    "Question 5"
   ]
  },
  {
   "cell_type": "code",
   "execution_count": 24,
   "id": "a30135dd-ca7f-4ff2-9fd9-82d8f5f9e32f",
   "metadata": {},
   "outputs": [
    {
     "name": "stdout",
     "output_type": "stream",
     "text": [
      "The number of vowels in the string is: 12\n"
     ]
    }
   ],
   "source": [
    "string = \"I want to become a data scientist\"\n",
    "vowel_count = 0\n",
    "vowels = \"aeiouAEIOU\"\n",
    "\n",
    "for char in string:\n",
    "    if char in vowels:\n",
    "        vowel_count = vowel_count + 1\n",
    "\n",
    "print(f\"The number of vowels in the string is: {vowel_count}\")\n"
   ]
  },
  {
   "cell_type": "code",
   "execution_count": null,
   "id": "a3fd5c10-0639-4dac-b0e0-0416cbffa756",
   "metadata": {},
   "outputs": [],
   "source": []
  }
 ],
 "metadata": {
  "kernelspec": {
   "display_name": "Python 3 (ipykernel)",
   "language": "python",
   "name": "python3"
  },
  "language_info": {
   "codemirror_mode": {
    "name": "ipython",
    "version": 3
   },
   "file_extension": ".py",
   "mimetype": "text/x-python",
   "name": "python",
   "nbconvert_exporter": "python",
   "pygments_lexer": "ipython3",
   "version": "3.12.4"
  }
 },
 "nbformat": 4,
 "nbformat_minor": 5
}
