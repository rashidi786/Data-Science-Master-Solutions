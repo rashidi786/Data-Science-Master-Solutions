{
 "cells": [
  {
   "cell_type": "code",
   "execution_count": 3,
   "id": "41214dc9-570b-463f-8455-51d75fc52187",
   "metadata": {},
   "outputs": [
    {
     "name": "stdout",
     "output_type": "stream",
     "text": [
      "1\n",
      "2\n",
      "3\n",
      "4\n",
      "5\n",
      "10\n",
      "9\n",
      "8\n",
      "7\n",
      "6\n",
      "5\n",
      "4\n",
      "3\n",
      "2\n",
      "1\n"
     ]
    }
   ],
   "source": [
    "#  Q1. Explain with an example each when to use a for loop and a while loop.\n",
    "#  Use a for loop when you know the exact number of iterations or need to iterate over a sequence (like a list, range, or string).\n",
    "        # using for loop\n",
    "\n",
    "numbers = [1, 2, 3, 4, 5]\n",
    "for num in numbers:\n",
    "    print(num)\n",
    "\n",
    "#  Use a while loop when the number of iterations is not known beforehand and depends on a condition being met.\n",
    "         # using while loop\n",
    "\n",
    "count = 10\n",
    "while count > 0:\n",
    "    print(count)\n",
    "    count -= 1"
   ]
  },
  {
   "cell_type": "code",
   "execution_count": 5,
   "id": "f2ed604f-0f2e-4dad-9b4d-3cf49e5b448b",
   "metadata": {},
   "outputs": [
    {
     "name": "stdout",
     "output_type": "stream",
     "text": [
      "Sum using for loop: 55\n",
      "Product using for loop: 3628800\n",
      "Sum using while loop: 55\n",
      "Product using while loop: 3628800\n"
     ]
    }
   ],
   "source": [
    "#  Q2. Write a python program to print the sum and product of the first 10 natural numbers using for and while loop.\n",
    "\n",
    "# Sum and product using for loop\n",
    "sum_for = 0\n",
    "product_for = 1\n",
    "\n",
    "for i in range(1, 11):\n",
    "    sum_for += i\n",
    "    product_for *= i\n",
    "\n",
    "print(f\"Sum using for loop: {sum_for}\")\n",
    "print(f\"Product using for loop: {product_for}\")\n",
    "\n",
    "\n",
    "# Sum and product using while loop\n",
    "sum_while = 0\n",
    "product_while = 1\n",
    "i = 1\n",
    "\n",
    "while i <= 10:\n",
    "    sum_while += i\n",
    "    product_while *= i\n",
    "    i += 1\n",
    "\n",
    "print(f\"Sum using while loop: {sum_while}\")\n",
    "print(f\"Product using while loop: {product_while}\")"
   ]
  },
  {
   "cell_type": "code",
   "execution_count": null,
   "id": "71541639-3f20-4509-9a29-e3e190b500ca",
   "metadata": {},
   "outputs": [],
   "source": [
    "#  Q3. Create a python program to compute the electricity bill for a household.\n",
    "# The per-unit charges in rupees are as follows: For the first 100 units, the user will be charged Rs. 4.5 per\n",
    "# unit, for the next 100 units, the user will be charged Rs. 6 per unit, and for the next 100 units, the user will\n",
    "# be charged Rs. 10 per unit, After 300 units and above the user will be charged Rs. 20 per unit.\n",
    "# You are required to take the units of electricity consumed in a month from the user as input.\n",
    "# Your program must pass this test case: when the unit of electricity consumed by the user in a month is\n",
    "# 310, the total electricity bill should be 2250.\n",
    "\n",
    "\n",
    "units = int(input(\"Enter the units of electricity consumed: \"))\n",
    "bill = 0\n",
    "\n",
    "if units <= 100:\n",
    "    bill = units * 4.5\n",
    "elif units <= 200:\n",
    "    bill = 100 * 4.5 + (units - 100) * 6\n",
    "elif units <= 300:\n",
    "    bill = 100 * 4.5 + 100 * 6 + (units - 200) * 10\n",
    "else:\n",
    "    bill = 100 * 4.5 + 100 * 6 + 100 * 10 + (units - 300) * 20\n",
    "\n",
    "print(f\"Total electricity bill: Rs. {bill}\")"
   ]
  },
  {
   "cell_type": "code",
   "execution_count": 1,
   "id": "62f4d010-569e-42e2-8489-b3c7ba774fd8",
   "metadata": {},
   "outputs": [
    {
     "name": "stdout",
     "output_type": "stream",
     "text": [
      "Numbers whose cubes are divisible by 4 or 5: [2, 4, 5, 6, 8, 10, 12, 14, 15, 16, 18, 20, 22, 24, 25, 26, 28, 30, 32, 34, 35, 36, 38, 40, 42, 44, 45, 46, 48, 50, 52, 54, 55, 56, 58, 60, 62, 64, 65, 66, 68, 70, 72, 74, 75, 76, 78, 80, 82, 84, 85, 86, 88, 90, 92, 94, 95, 96, 98, 100]\n",
      "Numbers whose cubes are divisible by 4 or 5: [2, 4, 5, 6, 8, 10, 12, 14, 15, 16, 18, 20, 22, 24, 25, 26, 28, 30, 32, 34, 35, 36, 38, 40, 42, 44, 45, 46, 48, 50, 52, 54, 55, 56, 58, 60, 62, 64, 65, 66, 68, 70, 72, 74, 75, 76, 78, 80, 82, 84, 85, 86, 88, 90, 92, 94, 95, 96, 98, 100]\n"
     ]
    }
   ],
   "source": [
    "#   Q4. Create a list of numbers from 1 to 100. Use for loop and while loop to calculate the cube of each number and if the cube of that number \n",
    "#    is divisible by 4 or 5 then append that number in a list and print that list.\n",
    "\n",
    "                         #  using for loop\n",
    "# List of numbers from 1 to 100\n",
    "numbers = list(range(1, 101))\n",
    "divisible_numbers = []\n",
    "\n",
    "for num in numbers:\n",
    "    cube = num ** 3\n",
    "    if cube % 4 == 0 or cube % 5 == 0:\n",
    "        divisible_numbers.append(num)\n",
    "\n",
    "print(\"Numbers whose cubes are divisible by 4 or 5:\", divisible_numbers)\n",
    "\n",
    "\n",
    "                     # Using while loop\n",
    "\n",
    "numbers = list(range(1, 101))\n",
    "divisible_numbers = []\n",
    "i = 0\n",
    "\n",
    "while i < len(numbers):\n",
    "    num = numbers[i]\n",
    "    cube = num ** 3\n",
    "    if cube % 4 == 0 or cube % 5 == 0:\n",
    "        divisible_numbers.append(num)\n",
    "    i += 1\n",
    "\n",
    "print(\"Numbers whose cubes are divisible by 4 or 5:\", divisible_numbers)"
   ]
  },
  {
   "cell_type": "code",
   "execution_count": null,
   "id": "dd59642c-8a23-47b2-98a6-ac6608638d11",
   "metadata": {},
   "outputs": [],
   "source": [
    "#   Q5. Write a program to filter count vowels in the below-given string. \n",
    "#   string = \"I want to become a data scientist\"\n",
    "\n",
    "\n",
    "# String to analyze\n",
    "string = \"I want to become a data scientist\"\n",
    "\n",
    "# Vowels set\n",
    "vowels = \"aeiouAEIOU\"\n",
    "vowel_count = 0\n",
    "\n",
    "# Count the vowels\n",
    "for char in string:\n",
    "    if char in vowels:\n",
    "        vowel_count += 1\n",
    "\n",
    "print(f\"Total number of vowels in the string: {vowel_count}\")"
   ]
  },
  {
   "cell_type": "code",
   "execution_count": null,
   "id": "0073c9ce-2286-4c57-87c0-fc1f8d0fe0f3",
   "metadata": {},
   "outputs": [],
   "source": []
  }
 ],
 "metadata": {
  "kernelspec": {
   "display_name": "Python 3 (ipykernel)",
   "language": "python",
   "name": "python3"
  },
  "language_info": {
   "codemirror_mode": {
    "name": "ipython",
    "version": 3
   },
   "file_extension": ".py",
   "mimetype": "text/x-python",
   "name": "python",
   "nbconvert_exporter": "python",
   "pygments_lexer": "ipython3",
   "version": "3.12.4"
  }
 },
 "nbformat": 4,
 "nbformat_minor": 5
}
